{
 "cells": [
  {
   "cell_type": "code",
   "execution_count": 2,
   "metadata": {},
   "outputs": [],
   "source": [
    "# Just to test the computation of figure 1 in Cooper & Haynes 2011\n",
    "# Fenwick Cooper, 2022. Fenwick@LittleStick.com.\n",
    "\n",
    "# Naive implementation in iPython and Matlab vs somewhat optimised C, approximate speed comparison:\n",
    "#   Time is for all 8 runs and 15 values of h, total 120 computations of the PDF.\n",
    "#\n",
    "#   Language    |   Kernel          |   Time        |   Time/120\n",
    "#   --------------------------------------------------------------\n",
    "#   iPython     |   Gaussian        |   111m54.6s   |   56.0s\n",
    "#   Matlab      |   Gaussian        |   33m58.0s    |   17.0s\n",
    "#   C           |   Gaussian        |   4m19.0s     |   2.2s\n",
    "#   iPython     |   Epanechnikov    |   27m43.2s    |   13.9s\n",
    "#   Matlab      |   Epanechnikov    |   27m2.7s*    |   13.5s\n",
    "#   C           |   Epanechnikov    |   0m33.0s     |   0.3s\n",
    "#\n",
    "# * I suspect a problem in this Matlab benchmark.\n",
    "#\n",
    "# Computer: 2018 desktop (AMD Ryzen 7 2700X CPU).\n",
    "#           Python 3.10.4, running in an Jupyter notebook appeared to use only 1 CPU core with this script.\n",
    "#           Matlab appeared to automatically use all 8 CPU cores with the equivalent script.\n",
    "#           The C code processed 8 single core jobs in parallel.\n",
    "#\n",
    "# Optimisations in the C code not in the iPython or Matlab code:\n",
    "#       The loop over different h repeats computations. Take code out of that loop.\n",
    "#       x[i]-x[j] == -(x[j]-x[i]) so ~50% of the calculations are repeated.\n",
    "#       When i==j expressions are simple, and calculation is unnecessary.\n",
    "#       The C code processes each model run separately on a core. Trivial parallelisation.\n",
    "#\n",
    "# Looking at the trend here we should probably re-write it in FORTRAN 77.\n",
    "#\n",
    "# The Gaussian FDT implemented in Matlab completed in ~6ms (6x10^-3 seconds).\n",
    "\n",
    "import numpy as np\n",
    "from scipy import linalg\n",
    "import matplotlib.pyplot as plt\n",
    "\n",
    "# Constants\n",
    "GAUSSIAN_KERNEL = 1\n",
    "EP_KERNEL = 2"
   ]
  },
  {
   "cell_type": "code",
   "execution_count": 16,
   "metadata": {},
   "outputs": [],
   "source": [
    "# Define B and Q\n",
    "B = -0.5\n",
    "Q = 1\n",
    "\n",
    "runLength = int(1e6) #65536   # Number of points in time to generate\n",
    "delta_t = 1         # The time between points (timestep is delta_t/100)\n",
    "numRuns = 8         # Number of independent runs to do\n",
    "d = 1               # The number of variables\n",
    "\n",
    "# Following notation in CH2011\n",
    "n = runLength   # Inner loop count\n",
    "m = runLength   # Outer loop count\n",
    "r = 10          # Upper limit of integral\n",
    "f = 1.0         # The applied forcing\n",
    "\n",
    "# Values of h to try\n",
    "# We want h ranging between ~4e-4 and ~7e-1\n",
    "numHParams = 15\n",
    "a = 0.000234647\n",
    "b = 0.533384\n",
    "hAll = a * np.exp( b * np.arange(1,numHParams+1) )\n",
    "\n",
    "# Kernel to use\n",
    "kernel = GAUSSIAN_KERNEL\n",
    "# kernel = EP_KERNEL"
   ]
  },
  {
   "cell_type": "code",
   "execution_count": 17,
   "metadata": {},
   "outputs": [],
   "source": [
    "def fensLinStoch(B, Q, delta_t, run_length):\n",
    "    # Generates a time series of length run_length of the linear stochastic\n",
    "    # system\n",
    "    #  dx/dt = B.x + r where <r.r'>=Q\n",
    "    # using the Euler-Maruyama method\n",
    "    #   x_{n+1} = x_n + B*x_n*dt + V*sqrt(D)*randn(len(B))*sqrt(dt)\n",
    "    # where [V,D]=eig(Q) and dt=delta_t/100. The initial condition is\n",
    "    # drawn from the appropriate Gaussian distribution to correctly \"spin up\".\n",
    "    #\n",
    "    # x  - The state vector of the system\n",
    "    # r  - A white noise vector with covariance Q\n",
    "    # B  - The decay matrix (real part of eigenvalues must all be negative)\n",
    "    # Q  - The noise covariance matrix (Must be positive definite)\n",
    "    # dt - The time step used\n",
    "    #\n",
    "    # delta_t   - Time between recording data points\n",
    "    # runLength - Record runLength data points\n",
    "\n",
    "    save_N_step = 100           # Only save 1/100 time steps\n",
    "    dt = delta_t / save_N_step  # dt is the timestep used to integrate\n",
    "\n",
    "    if (type(B) == float):  # Make sure B and Q are numpy arrays\n",
    "        B = np.array([[B]])\n",
    "        Q = np.array([[Q]])\n",
    "\n",
    "    matrix_size = len(B)    # The number of variables in the system\n",
    "\n",
    "    # Check B\n",
    "    D = np.real(np.linalg.eig(B)[0])\n",
    "    if (np.max(D) > 0):\n",
    "        print('ERROR in fensLinStoch:')\n",
    "        print('Eigenvalues of B have positive real parts.')\n",
    "        print('Stochastic system explodes, giving up...')\n",
    "        x = 0\n",
    "        return x\n",
    "\n",
    "    # Check Q\n",
    "    D = np.linalg.eig(Q)[0]\n",
    "    if (np.min(D) < 0):\n",
    "        print('ERROR in fensLinStoch:')\n",
    "        print('Eigenvalues of Q are negative.')\n",
    "        print('Random numbers are imaginary, giving up...')\n",
    "        x = 0\n",
    "        return x\n",
    "\n",
    "    # Optimisation variables\n",
    "    Qd, Qv = np.linalg.eig(Q)\n",
    "    Q_opt = Qv.dot(np.diag(np.sqrt(Qd))) * np.sqrt(dt)\n",
    "    B_opt = np.eye(matrix_size) + B * dt\n",
    "\n",
    "    # Allocate RAM\n",
    "    x = np.zeros((run_length, matrix_size))\n",
    "\n",
    "    # Initial condition\n",
    "    C0 = linalg.solve_continuous_lyapunov(B, -Q)\n",
    "    D, V = np.linalg.eig(C0)\n",
    "    x[0,:] = V.dot(np.diag(np.sqrt(D))).dot(np.random.randn(matrix_size))\n",
    "\n",
    "    # Run the model\n",
    "    for n in range(run_length-1):\n",
    "        temp = x[n,:]\n",
    "        r = Q_opt.dot(np.random.randn(save_N_step,matrix_size).T).T\n",
    "        for m in range(save_N_step):\n",
    "            # temp=temp+B*temp*dt+Qv*sqrt(Qd)*randn(matrix_size)*sqrt(dt);\n",
    "            temp = B_opt.dot(temp.T) + r[m,:]\n",
    "        \n",
    "        x[n+1,:] = temp\n",
    "    \n",
    "    return x"
   ]
  },
  {
   "cell_type": "code",
   "execution_count": 18,
   "metadata": {},
   "outputs": [
    {
     "name": "stdout",
     "output_type": "stream",
     "text": [
      "[0.39917825]\n"
     ]
    }
   ],
   "source": [
    "# Just to get how long it takes to run fensLinStoch\n",
    "for runNo in range(1):\n",
    "    x = fensLinStoch(B, Q, delta_t, runLength+r)\n",
    "    print(x[-1])"
   ]
  },
  {
   "cell_type": "code",
   "execution_count": 32,
   "metadata": {},
   "outputs": [
    {
     "data": {
      "text/plain": [
       "array([    0,   100,   200,   300,   400,   500,   600,   700,   800,\n",
       "         900,  1000,  1100,  1200,  1300,  1400,  1500,  1600,  1700,\n",
       "        1800,  1900,  2000,  2100,  2200,  2300,  2400,  2500,  2600,\n",
       "        2700,  2800,  2900,  3000,  3100,  3200,  3300,  3400,  3500,\n",
       "        3600,  3700,  3800,  3900,  4000,  4100,  4200,  4300,  4400,\n",
       "        4500,  4600,  4700,  4800,  4900,  5000,  5100,  5200,  5300,\n",
       "        5400,  5500,  5600,  5700,  5800,  5900,  6000,  6100,  6200,\n",
       "        6300,  6400,  6500,  6600,  6700,  6800,  6900,  7000,  7100,\n",
       "        7200,  7300,  7400,  7500,  7600,  7700,  7800,  7900,  8000,\n",
       "        8100,  8200,  8300,  8400,  8500,  8600,  8700,  8800,  8900,\n",
       "        9000,  9100,  9200,  9300,  9400,  9500,  9600,  9700,  9800,\n",
       "        9900, 10000, 10100, 10200, 10300, 10400, 10500, 10600, 10700,\n",
       "       10800, 10900, 11000, 11100, 11200, 11300, 11400, 11500, 11600,\n",
       "       11700, 11800, 11900, 12000, 12100, 12200, 12300, 12400, 12500,\n",
       "       12600, 12700, 12800, 12900, 13000, 13100, 13200, 13300, 13400,\n",
       "       13500, 13600, 13700, 13800, 13900, 14000, 14100, 14200, 14300,\n",
       "       14400, 14500, 14600, 14700, 14800, 14900, 15000, 15100, 15200,\n",
       "       15300, 15400, 15500, 15600, 15700, 15800, 15900, 16000, 16100,\n",
       "       16200, 16300, 16400, 16500, 16600, 16700, 16800, 16900, 17000,\n",
       "       17100, 17200, 17300, 17400, 17500, 17600, 17700, 17800, 17900,\n",
       "       18000, 18100, 18200, 18300, 18400, 18500, 18600, 18700, 18800,\n",
       "       18900, 19000, 19100, 19200, 19300, 19400, 19500, 19600, 19700,\n",
       "       19800, 19900, 20000, 20100, 20200, 20300, 20400, 20500, 20600,\n",
       "       20700, 20800, 20900, 21000, 21100, 21200, 21300, 21400, 21500,\n",
       "       21600, 21700, 21800, 21900, 22000, 22100, 22200, 22300, 22400,\n",
       "       22500, 22600, 22700, 22800, 22900, 23000, 23100, 23200, 23300,\n",
       "       23400, 23500, 23600, 23700, 23800, 23900, 24000, 24100, 24200,\n",
       "       24300, 24400, 24500, 24600, 24700, 24800, 24900, 25000, 25100,\n",
       "       25200, 25300, 25400, 25500, 25600, 25700, 25800, 25900, 26000,\n",
       "       26100, 26200, 26300, 26400, 26500, 26600, 26700, 26800, 26900,\n",
       "       27000, 27100, 27200, 27300, 27400, 27500, 27600, 27700, 27800,\n",
       "       27900, 28000, 28100, 28200, 28300, 28400, 28500, 28600, 28700,\n",
       "       28800, 28900, 29000, 29100, 29200, 29300, 29400, 29500, 29600,\n",
       "       29700, 29800, 29900, 30000, 30100, 30200, 30300, 30400, 30500,\n",
       "       30600, 30700, 30800, 30900, 31000, 31100, 31200, 31300, 31400,\n",
       "       31500, 31600, 31700, 31800, 31900, 32000, 32100, 32200, 32300,\n",
       "       32400, 32500, 32600, 32700, 32800, 32900, 33000, 33100, 33200,\n",
       "       33300, 33400, 33500, 33600, 33700, 33800, 33900, 34000, 34100,\n",
       "       34200, 34300, 34400, 34500, 34600, 34700, 34800, 34900, 35000,\n",
       "       35100, 35200, 35300, 35400, 35500, 35600, 35700, 35800, 35900,\n",
       "       36000, 36100, 36200, 36300, 36400, 36500, 36600, 36700, 36800,\n",
       "       36900, 37000, 37100, 37200, 37300, 37400, 37500, 37600, 37700,\n",
       "       37800, 37900, 38000, 38100, 38200, 38300, 38400, 38500, 38600,\n",
       "       38700, 38800, 38900, 39000, 39100, 39200, 39300, 39400, 39500,\n",
       "       39600, 39700, 39800, 39900, 40000, 40100, 40200, 40300, 40400,\n",
       "       40500, 40600, 40700, 40800, 40900, 41000, 41100, 41200, 41300,\n",
       "       41400, 41500, 41600, 41700, 41800, 41900, 42000, 42100, 42200,\n",
       "       42300, 42400, 42500, 42600, 42700, 42800, 42900, 43000, 43100,\n",
       "       43200, 43300, 43400, 43500, 43600, 43700, 43800, 43900, 44000,\n",
       "       44100, 44200, 44300, 44400, 44500, 44600, 44700, 44800, 44900,\n",
       "       45000, 45100, 45200, 45300, 45400, 45500, 45600, 45700, 45800,\n",
       "       45900, 46000, 46100, 46200, 46300, 46400, 46500, 46600, 46700,\n",
       "       46800, 46900, 47000, 47100, 47200, 47300, 47400, 47500, 47600,\n",
       "       47700, 47800, 47900, 48000, 48100, 48200, 48300, 48400, 48500,\n",
       "       48600, 48700, 48800, 48900, 49000, 49100, 49200, 49300, 49400,\n",
       "       49500, 49600, 49700, 49800, 49900, 50000, 50100, 50200, 50300,\n",
       "       50400, 50500, 50600, 50700, 50800, 50900, 51000, 51100, 51200,\n",
       "       51300, 51400, 51500, 51600, 51700, 51800, 51900, 52000, 52100,\n",
       "       52200, 52300, 52400, 52500, 52600, 52700, 52800, 52900, 53000,\n",
       "       53100, 53200, 53300, 53400, 53500, 53600, 53700, 53800, 53900,\n",
       "       54000, 54100, 54200, 54300, 54400, 54500, 54600, 54700, 54800,\n",
       "       54900, 55000, 55100, 55200, 55300, 55400, 55500, 55600, 55700,\n",
       "       55800, 55900, 56000, 56100, 56200, 56300, 56400, 56500, 56600,\n",
       "       56700, 56800, 56900, 57000, 57100, 57200, 57300, 57400, 57500,\n",
       "       57600, 57700, 57800, 57900, 58000, 58100, 58200, 58300, 58400,\n",
       "       58500, 58600, 58700, 58800, 58900, 59000, 59100, 59200, 59300,\n",
       "       59400, 59500, 59600, 59700, 59800, 59900, 60000, 60100, 60200,\n",
       "       60300, 60400, 60500, 60600, 60700, 60800, 60900, 61000, 61100,\n",
       "       61200, 61300, 61400, 61500, 61600, 61700, 61800, 61900, 62000,\n",
       "       62100, 62200, 62300, 62400, 62500, 62600, 62700, 62800, 62900,\n",
       "       63000, 63100, 63200, 63300, 63400, 63500, 63600, 63700, 63800,\n",
       "       63900, 64000, 64100, 64200, 64300, 64400, 64500, 64600, 64700,\n",
       "       64800, 64900, 65000, 65100, 65200, 65300, 65400, 65500])"
      ]
     },
     "execution_count": 32,
     "metadata": {},
     "output_type": "execute_result"
    }
   ],
   "source": [
    "t= np.arange(0,runLength+r,100)\n",
    "t"
   ]
  },
  {
   "cell_type": "code",
   "execution_count": 28,
   "metadata": {},
   "outputs": [
    {
     "data": {
      "text/plain": [
       "[<matplotlib.lines.Line2D at 0x15551c5ad940>]"
      ]
     },
     "execution_count": 28,
     "metadata": {},
     "output_type": "execute_result"
    },
    {
     "data": {
      "image/png": "[encoded data removed]",
      "text/plain": [
       "<Figure size 432x288 with 1 Axes>"
      ]
     },
     "metadata": {
      "needs_background": "light"
     },
     "output_type": "display_data"
    }
   ],
   "source": [
    "plt.plot(x[:,0])"
   ]
  },
  {
   "cell_type": "code",
   "execution_count": 5,
   "metadata": {},
   "outputs": [
    {
     "name": "stdout",
     "output_type": "stream",
     "text": [
      "Run 1/8, h param 1/15\n",
      "[ 0.51081208  0.5634264   0.56452278 -1.45776055  1.20316085 -0.45996835\n",
      " -0.72157957  0.39806698 -0.05386525  0.39071609 -0.41382371]\n",
      "Run 1/8, h param 2/15\n"
     ]
    }
   ],
   "source": [
    "# The response we are calculating\n",
    "rpr = np.zeros((r+1, numHParams, numRuns));\n",
    "\n",
    "for runNo in range(numRuns):\n",
    "\n",
    "\t# Generate an extra r points for computation of the integral without extra programming.\n",
    "\tx = fensLinStoch(B, Q, delta_t, runLength+r)\n",
    "\t\n",
    "\t# For each h parameter we are looking at\n",
    "\tfor hNo in range(numHParams):\n",
    "\t\n",
    "\t\tprint('Run ' + str(runNo+1) + '/' + str(numRuns) + ', h param ' + str(hNo+1) + '/' + str(numHParams))\n",
    "\t\t\n",
    "\t\t# Choose a value for h\n",
    "\t\th = hAll[hNo]\n",
    "\t\n",
    "\t\tif kernel == GAUSSIAN_KERNEL:\n",
    "\t\t\t# Gaussian kernel\n",
    "\t\t\tnorm1 = -1.0 / (2.0*h**2)\n",
    "\t\t\tdRhoORho = np.zeros(runLength)\n",
    "\t\t\t# Calculate del rho / rho for each data point\n",
    "\t\t\tfor j in range(m):\n",
    "\t\t\t\tdx = x[0:n] - x[j]\n",
    "\t\t\t\tN = np.exp(dx**2 * norm1)\n",
    "\t\t\t\tdN = dx * N\n",
    "\t\t\t\tdRhoORho[j] = np.sum(dN) / (h**2 * np.sum(N))\n",
    "\t\t\t\t\n",
    "\t\telif (kernel == EP_KERNEL):\n",
    "\t\t\t# Epanechnikov kernel\n",
    "\t\t\tdRhoORho = np.zeros(runLength)\n",
    "\t\t\tfor j in range(m):\n",
    "\t\t\t\tdx = x[0:n] - x[j]\n",
    "\t\t\t\tN = h**2 - dx**2\n",
    "\t\t\t\tN *= (N > 0)\n",
    "\t\t\t\tdN = dx * (N > 0)\n",
    "\t\t\t\tdRhoORho[j] = 2.0 * np.sum(dN) / np.sum(N)\n",
    "\t\t\n",
    "\t\t# Integrate over all lags\n",
    "\t\tgamma = np.zeros(r+1)\t\t\t# Python can't cope with the variable name \"lambda\"\n",
    "\t\tfor s in range(r+1):\n",
    "\t\t\tfor j in range(m):\n",
    "\t\t\t\tgamma[s] -= x[j+s] * dRhoORho[j]\n",
    "\t\tgamma /= runLength\n",
    "\t\t\n",
    "\t\t# Finally calculate the response\n",
    "\t\trpr[:,hNo,runNo] = f * (np.cumsum(gamma)-gamma[0]/2.0)\n",
    "\t\tprint(rpr[-1])"
   ]
  },
  {
   "cell_type": "code",
   "execution_count": 5,
   "metadata": {},
   "outputs": [
    {
     "data": {
      "image/png": "[encoded data removed]",
      "text/plain": [
       "<Figure size 432x288 with 1 Axes>"
      ]
     },
     "metadata": {
      "needs_background": "light"
     },
     "output_type": "display_data"
    }
   ],
   "source": [
    "plt.semilogx(hAll, np.mean(rpr[-1,:,:],1).T, 'ko')\n",
    "plt.semilogx(hAll, np.mean(rpr[-1,:,:],1).T + 2.0 * np.std(rpr[-1,:,:],1), 'k--')\n",
    "plt.semilogx(hAll, np.mean(rpr[-1,:,:],1).T - 2.0 * np.std(rpr[-1,:,:],1), 'k--')\n",
    "plt.xlim((np.min(hAll), np.max(hAll)))\n",
    "plt.ylim((1, 3))\n",
    "plt.grid(True)\n",
    "plt.xlabel('h')\n",
    "plt.ylabel('Response')\n",
    "plt.show()"
   ]
  },
  {
   "cell_type": "code",
   "execution_count": null,
   "metadata": {},
   "outputs": [],
   "source": []
  }
 ],
 "metadata": {
  "kernelspec": {
   "display_name": "Python 3.9.12 ('project1')",
   "language": "python",
   "name": "python3"
  },
  "language_info": {
   "codemirror_mode": {
    "name": "ipython",
    "version": 3
   },
   "file_extension": ".py",
   "mimetype": "text/x-python",
   "name": "python",
   "nbconvert_exporter": "python",
   "pygments_lexer": "ipython3",
   "version": "3.9.12"
  },
  "orig_nbformat": 4,
  "vscode": {
   "interpreter": {
    "hash": "1dfed56c7605c8001fe4a60214b137e2e2209a8e37de70f7e941b8b875c73ed8"
   }
  }
 },
 "nbformat": 4,
 "nbformat_minor": 2
}
