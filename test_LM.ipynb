{
 "cells": [
  {
   "cell_type": "code",
   "execution_count": 1,
   "metadata": {},
   "outputs": [],
   "source": [
    "import numpy as np\n",
    "# import matplotlib.pyplot as plt\n",
    "# import scipy.stats as stats\n",
    "# import scipy\n",
    "from tqdm.notebook import tqdm, trange\n",
    "# import climlab\n",
    "# import xarray as xr\n",
    "# from metpy.plots import SkewT\n",
    "# from numpy import deg2r²ad\n",
    "# from math import *\n",
    "from fastkde import fastKDE\n",
    "import multiprocessing as mp\n",
    "import socket\n",
    "import json\n",
    "import os\n",
    "\n",
    "from src.models import *\n",
    "from src.utils import *\n",
    "from src.npFDT import *\n",
    "\n",
    "# password = getpass(\"Enter your email password:\")\n",
    "password = ''"
   ]
  },
  {
   "cell_type": "markdown",
   "metadata": {},
   "source": [
    "## Init Simu any dim "
   ]
  },
  {
   "cell_type": "code",
   "execution_count": 6,
   "metadata": {},
   "outputs": [
    {
     "name": "stdout",
     "output_type": "stream",
     "text": [
      "Equilibrium values: [2.76313532 2.50817813 1.80756892 1.91794032 2.34659463]\n"
     ]
    },
    {
     "data": {
      "image/png": "[encoded data removed]",
      "text/plain": [
       "<Figure size 432x288 with 1 Axes>"
      ]
     },
     "metadata": {
      "needs_background": "light"
     },
     "output_type": "display_data"
    },
    {
     "data": {
      "image/png": "[encoded data removed]",
      "text/plain": [
       "<Figure size 432x288 with 1 Axes>"
      ]
     },
     "metadata": {
      "needs_background": "light"
     },
     "output_type": "display_data"
    }
   ],
   "source": [
    "#dimension of the system\n",
    "d=5\n",
    "models = get_models_lm(d_max=d)\n",
    "# with open('linear_models.json') as json_file:\n",
    "#     models = json.load(json_file)\n",
    "\n",
    "\n",
    "#INITIALIZATION\n",
    "#simu parameters\n",
    "n=int(5e4)\n",
    "subsample=True\n",
    "m=n\n",
    "K=5\n",
    "h=1.\n",
    "t0=0\n",
    "tf=n/100\n",
    "dt=0.01\n",
    "\n",
    "#model parameters\n",
    "eps=1.\n",
    "T=20/eps \n",
    "\n",
    "B=np.array(models[f'{d}D'][0])\n",
    "noise = 0.1\n",
    "x0= np.ones(d) #init_cond_LM(B, noise)\n",
    "model_params = {'B':B,'noise':noise}\n",
    "f_null = lambda t : 0\n",
    "pert = np.array(models[f'{d}D'][1])\n",
    "f = lambda t : pert*eps\n",
    "params = {'model_params':model_params, 'f':f, 'dim':B.shape[0]}\n",
    "\n",
    "eq_values = get_equilibrium_lm(B=B, f=f, nb_samples=1e4)\n",
    "print('Equilibrium values:', eq_values)\n",
    "\n",
    "# # One trajectory\n",
    "dt=1\n",
    "x = fast_one_trajectory_LM(model_params, delta_t=dt, n=int(n+T))\n",
    "plt.plot(x[:,0])\n",
    "plt.show()\n",
    "\n",
    "\n",
    "term_pdf = term_pdf_gaussian(x=x,m=m)\n",
    "\n",
    "int_val = np.arange(0,T, dt) #integration values\n",
    "s_val = np.arange(0,len(int_val)).astype(int) #values at which evaluate lambda_hat(s) \n",
    "# function to integrate\n",
    "with mp.Pool(mp.cpu_count()) as pool:\n",
    "    funct_val = np.array(pool.map(partial(lambda_hat,m=m,x=x,term_pdf=term_pdf),s_val))\n",
    "funct_val = funct_val@ np.linalg.inv(lambda_hat(s=0,m=m,x=x,term_pdf=term_pdf))\n",
    "\n",
    "\n",
    "funct = np.trace(np.moveaxis(funct_val,0,2)) #np.sum(funct_val,axis=(1,2))\n",
    "plt.figure()\n",
    "plt.plot(int_val, funct, '--')\n",
    "plt.title(r'$\\mathrm{Tr}(\\hat{\\hat{\\Lambda}}(s \\Delta t))$ in function of timelag $s \\Delta t$' +'\\n' r'for $n$ = %.1E' % n + ' for pdf_mod = gaussian')\n",
    "plt.xlabel(r'$s \\Delta t$')\n",
    "plt.ylabel(r'$\\mathrm{Tr}(\\hat{\\hat{\\Lambda}}(s \\Delta t))$')\n",
    "plt.grid()\n",
    "plt.show()\n",
    "dt=0.01"
   ]
  },
  {
   "cell_type": "code",
   "execution_count": 8,
   "metadata": {},
   "outputs": [
    {
     "name": "stdout",
     "output_type": "stream",
     "text": [
      "---------------------------------------------------------------------------\n",
      "Launching simulations with K=5 iterations, n=5.00E+04 samples...\n"
     ]
    },
    {
     "data": {
      "application/vnd.jupyter.widget-view+json": {
       "model_id": "993675977fd348818d8dede3143fc20d",
       "version_major": 2,
       "version_minor": 0
      },
      "text/plain": [
       "  0%|          | 0/5 [00:00<?, ?it/s]"
      ]
     },
     "metadata": {},
     "output_type": "display_data"
    },
    {
     "name": "stdout",
     "output_type": "stream",
     "text": [
      "PDF ESTIMATED at iter 0... begining of the L_hat estimation after 20.723414 seconds\n",
      "Result iter 0: [2.89465073 2.77484751 1.37768487 1.94790821 2.03943379]\n",
      "Computation time after pdf: 1.05585 seconds\n",
      "PDF ESTIMATED at iter 1... begining of the L_hat estimation after 20.131886 seconds\n",
      "Result iter 1: [2.92204727 2.73567594 1.83328414 2.01710971 2.05949325]\n",
      "Computation time after pdf: 1.126129 seconds\n",
      "PDF ESTIMATED at iter 2... begining of the L_hat estimation after 19.642679 seconds\n",
      "Result iter 2: [2.9838876  2.60326459 1.8016172  1.7616974  2.26552245]\n",
      "Computation time after pdf: 1.0513 seconds\n",
      "PDF ESTIMATED at iter 3... begining of the L_hat estimation after 19.809097 seconds\n",
      "Result iter 3: [2.8571778  2.53790604 1.69830746 2.11169234 2.72497924]\n",
      "Computation time after pdf: 1.067236 seconds\n",
      "PDF ESTIMATED at iter 4... begining of the L_hat estimation after 20.226061 seconds\n",
      "Result iter 4: [2.94011504 2.88332232 1.56749297 2.27526508 2.22519554]\n",
      "Computation time after pdf: 1.026297 seconds\n",
      "Mean :  [2.91957569 2.70700328 1.65567733 2.02273455 2.26292486]\n",
      "Mean error :  0.06204267349919419\n",
      "Mean std 0.0702820110841095\n"
     ]
    }
   ],
   "source": [
    "K=5\n",
    "mean, res = simulation(linear_model, params, K, n, m, x0, dt, T=T, subsample=True, pre_comp=None, par_mod='bottom', pdf_mod='subcooper1000', h=h, \n",
    "            password=password, verbose=False, no_mail=True)\n",
    "print(\"Mean : \", mean)\n",
    "mean_error = np.mean(np.abs(mean-eq_values)/eq_values)\n",
    "print(\"Mean error : \", mean_error)\n",
    "mean_std = np.mean(np.std(res, axis=0) / eq_values)\n",
    "print(\"Mean std\", mean_std)"
   ]
  }
 ],
 "metadata": {
  "kernelspec": {
   "display_name": "Python 3.9.12 ('project1')",
   "language": "python",
   "name": "python3"
  },
  "language_info": {
   "codemirror_mode": {
    "name": "ipython",
    "version": 3
   },
   "file_extension": ".py",
   "mimetype": "text/x-python",
   "name": "python",
   "nbconvert_exporter": "python",
   "pygments_lexer": "ipython3",
   "version": "3.9.12"
  },
  "orig_nbformat": 4,
  "vscode": {
   "interpreter": {
    "hash": "1dfed56c7605c8001fe4a60214b137e2e2209a8e37de70f7e941b8b875c73ed8"
   }
  }
 },
 "nbformat": 4,
 "nbformat_minor": 2
}
